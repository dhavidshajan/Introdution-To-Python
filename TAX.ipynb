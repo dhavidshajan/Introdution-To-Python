{
  "nbformat": 4,
  "nbformat_minor": 0,
  "metadata": {
    "colab": {
      "name": "TAX",
      "provenance": []
    },
    "kernelspec": {
      "name": "python3",
      "display_name": "Python 3"
    },
    "language_info": {
      "name": "python"
    }
  },
  "cells": [
    {
      "cell_type": "code",
      "source": [
        "x=20"
      ],
      "metadata": {
        "id": "VQspL_wx1Ts4"
      },
      "execution_count": 51,
      "outputs": []
    },
    {
      "cell_type": "code",
      "source": [
        "if x>10 :\n",
        "  print('x>10')"
      ],
      "metadata": {
        "colab": {
          "base_uri": "https://localhost:8080/"
        },
        "id": "xAa-14P11U7P",
        "outputId": "0352a8a1-14df-445a-94b6-6d41bfe5d710"
      },
      "execution_count": 52,
      "outputs": [
        {
          "output_type": "stream",
          "name": "stdout",
          "text": [
            "x>10\n"
          ]
        }
      ]
    },
    {
      "cell_type": "code",
      "source": [
        "x=20\n",
        "if x>10:\n",
        "  print ('x>10')\n",
        "if x<10:\n",
        "  print('x<10')\n",
        "if x==10:\n",
        "  print('x==10')"
      ],
      "metadata": {
        "colab": {
          "base_uri": "https://localhost:8080/"
        },
        "id": "xPZO8HAf2kSI",
        "outputId": "13751c2b-462d-45f1-f434-a7f7607d6c45"
      },
      "execution_count": 56,
      "outputs": [
        {
          "output_type": "stream",
          "name": "stdout",
          "text": [
            "x>10\n"
          ]
        }
      ]
    },
    {
      "cell_type": "code",
      "source": [
        "x=int(input('enter the number'))\n",
        "if x>10 :\n",
        "  print('pass')\n",
        "if x<10:\n",
        "  print('fail')  \n",
        "if x==10:\n",
        "  print('just pass')  \n"
      ],
      "metadata": {
        "colab": {
          "base_uri": "https://localhost:8080/"
        },
        "id": "EeKzHTzC3Qq_",
        "outputId": "576e0591-8f34-45a2-8c63-f3153775bdcf"
      },
      "execution_count": 54,
      "outputs": [
        {
          "output_type": "stream",
          "name": "stdout",
          "text": [
            "enter the number10\n",
            "just pass\n"
          ]
        }
      ]
    },
    {
      "cell_type": "code",
      "source": [
        "x=int(input('enter the salary'))\n",
        "if x>250000 :\n",
        "  print(x*10/100)\n",
        "if x<250000 :\n",
        "  print('not taxable') "
      ],
      "metadata": {
        "colab": {
          "base_uri": "https://localhost:8080/"
        },
        "id": "7eWh3ffQ-eMU",
        "outputId": "6a84f8c9-2dbc-49a8-ec05-7a0598f2ba31"
      },
      "execution_count": 55,
      "outputs": [
        {
          "output_type": "stream",
          "name": "stdout",
          "text": [
            "enter the salary300000\n",
            "30000.0\n"
          ]
        }
      ]
    },
    {
      "cell_type": "code",
      "source": [
        ""
      ],
      "metadata": {
        "id": "zNjJFr_sCXBt"
      },
      "execution_count": 55,
      "outputs": []
    }
  ]
}